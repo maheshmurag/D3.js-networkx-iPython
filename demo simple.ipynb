{
 "cells": [
  {
   "cell_type": "code",
   "execution_count": 1,
   "metadata": {
    "collapsed": false
   },
   "outputs": [],
   "source": [
    "from d3networkx.widget import ForceDirectedGraph\n",
    "from ipywidgets import widgets\n",
    "from IPython.display import display\n",
    "from d3networkx.eventful_graph import EventfulGraph\n",
    "\n",
    "G = EventfulGraph()\n",
    "d3 = ForceDirectedGraph(G)\n",
    "display(d3)\n",
    "G.add_node(1, fill=\"blue\", stroke=\"black\", color='black', label='A')\n",
    "G.add_node(2, fill=\"blue\", stroke=\"black\", color='black', label='B')\n",
    "G.add_node(3, fill=\"blue\", stroke=\"black\", color='white', label='C')\n",
    "G.add_edges_from([(1,2),(1,3), (2,3)], stroke=\"#aaa\", strokewidth=\"1px\", distance=200, strength=0.5)"
   ]
  },
  {
   "cell_type": "markdown",
   "metadata": {},
   "source": [
    "The following code creates an animation of some of the plot's properties."
   ]
  },
  {
   "cell_type": "code",
   "execution_count": null,
   "metadata": {
    "collapsed": false
   },
   "outputs": [],
   "source": [
    "display(d3)\n",
    "\n",
    "import time\n",
    "G.node.clear()\n",
    "G.add_node(1, fill=\"red\", stroke=\"black\", color='black', label='A')\n",
    "time.sleep(1.0)\n",
    "\n",
    "G.add_node(2, fill=\"gold\", stroke=\"black\", color='black', r=20, font_size='24pt', label='B')\n",
    "time.sleep(1.0)\n",
    "\n",
    "G.add_node(3, fill=\"green\", stroke=\"black\", color='white', label='C')\n",
    "time.sleep(1.0)\n",
    "\n",
    "G.add_edges_from([(1,2),(1,3), (2,3)], stroke=\"#aaa\", strokewidth=\"1px\", distance=200, strength=0.5)\n",
    "time.sleep(1.0)\n",
    "\n",
    "G.adj[1][2]['distance'] = 20\n",
    "time.sleep(1.0)\n",
    "\n",
    "G.adj[1][3]['distance'] = 20\n",
    "time.sleep(1.0)\n",
    "\n",
    "G.adj[2][3]['distance'] = 20\n",
    "time.sleep(1.0)\n",
    "\n",
    "G.node[1]['r'] = 16\n",
    "time.sleep(0.3)\n",
    "G.node[1]['r'] = 8\n",
    "G.node[2]['r'] = 16\n",
    "time.sleep(0.3)\n",
    "G.node[2]['r'] = 20\n",
    "G.node[3]['r'] = 16\n",
    "time.sleep(0.3)\n",
    "G.node[3]['r'] = 8\n",
    "\n",
    "G.node[1]['fill'] = 'purple'\n",
    "time.sleep(0.3)\n",
    "G.node[1]['fill'] = 'red'\n",
    "G.node[2]['fill'] = 'purple'\n",
    "time.sleep(0.3)\n",
    "G.node[2]['fill'] = 'gold'\n",
    "G.node[3]['fill'] = 'purple'\n",
    "time.sleep(0.3)\n",
    "G.node[3]['fill'] = 'green'\n",
    "time.sleep(1.0)\n",
    "\n",
    "G.node.clear()"
   ]
  },
  {
   "cell_type": "code",
   "execution_count": null,
   "metadata": {
    "collapsed": true
   },
   "outputs": [],
   "source": []
  }
 ],
 "metadata": {
  "kernelspec": {
   "display_name": "Python 2",
   "language": "python",
   "name": "python2"
  },
  "language_info": {
   "codemirror_mode": {
    "name": "ipython",
    "version": 2
   },
   "file_extension": ".py",
   "mimetype": "text/x-python",
   "name": "python",
   "nbconvert_exporter": "python",
   "pygments_lexer": "ipython2",
   "version": "2.7.10"
  }
 },
 "nbformat": 4,
 "nbformat_minor": 0
}
