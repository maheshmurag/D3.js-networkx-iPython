{
 "cells": [
  {
   "cell_type": "code",
   "execution_count": 1,
   "metadata": {
    "collapsed": false
   },
   "outputs": [],
   "source": [
    "from d3networkx.widget import ForceDirectedGraph\n",
    "from ipywidgets import widgets\n",
    "from IPython.display import display\n",
    "from d3networkx.eventful_graph import EventfulGraph\n",
    "\n",
    "G = EventfulGraph()\n",
    "d3 = ForceDirectedGraph(G)\n",
    "display(d3)\n",
    "G.add_node(1, fill=\"blue\", stroke=\"black\", color='black', label='A')\n",
    "G.add_node(2, fill=\"blue\", stroke=\"black\", color='black', label='B')\n",
    "G.add_node(3, fill=\"blue\", stroke=\"black\", color='white', label='C')\n",
    "G.add_edges_from([(1,2),(1,3), (2,3)], stroke=\"#aaa\", strokewidth=\"1px\", distance=200, strength=0.5)"
   ]
  }
 ],
 "metadata": {
  "kernelspec": {
   "display_name": "Python 2",
   "language": "python",
   "name": "python2"
  },
  "language_info": {
   "codemirror_mode": {
    "name": "ipython",
    "version": 2
   },
   "file_extension": ".py",
   "mimetype": "text/x-python",
   "name": "python",
   "nbconvert_exporter": "python",
   "pygments_lexer": "ipython2",
   "version": "2.7.10"
  }
 },
 "nbformat": 4,
 "nbformat_minor": 0
}
